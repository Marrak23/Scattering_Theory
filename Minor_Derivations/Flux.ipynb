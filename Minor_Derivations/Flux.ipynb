{
 "cells": [
  {
   "cell_type": "markdown",
   "metadata": {
    "colab_type": "text"
   },
  "source": [
    "# 2 dimensional Continuity equation and Flux representation\n",
    "\n",
    "In the following, the two dimensioanl continuity equation will be derived. From this, the Flux operator will be defined and \n",
    "and represented using the imaginary part of wavefunction crossproduct.\n",
    "\n",
    "[<b>The two-dimensional Hamiltonian in Center of Mass Coordinates<i>](https://github.com/Marrak23/Scattering_Theory/blob/main/Minor_Derivations/Hamiltonian_Center_of_Mass.ipynb) \n",
    "is provided by the following:\n",
    "\n",
    "$\\begin{align}\n",
    "\\mathcal{H} = - \\frac{\\hbar^{2}}{2\\left(m_{1}+m_{2}\\right)}\\nabla_{\\text{CM}}^{2} - \\frac{\\hbar^{2}m_{1}m_{2}}{2\\left(m_{1}+m_{2}\\right)}\\nabla_{r}^{2} + V(r)",
    "\\end{align}$\n",
    "\n",
    "The time-dependent Schrödinger equation (TDSE) is provided by \n",
    "$i\\hbar\\frac{\\partial \\Psi}{\\partial t}=\\mathcal{H}\\Psi \\implies \\frac{\\partial \\Psi}{\\partial t} = - \\frac{i}{\\hbar}\\mathcal{H}\\Psi $. \n",
    "The probability density is provided by $|\\Psi|^{2} = \\Psi^{\\ast}\\Psi$. Taking the time-derivative of this yields:\n",
    "\n",
    "$\\begin{align}\n",
    "\\frac{\\partial |\\Psi|^{2}}{\\partial t} = \\frac{\\partial}{\\partial t}\\left(\\Psi^{\\ast}\\Psi\\right)\n",
    "&\\stackrel{\\text{PR}}{=} \\Psi^{\\ast}\\frac{\\partial \\Psi}{\\partial t} + \\Psi\\frac{\\partial \\Psi^{\\ast}}{\\partial t}\\notag \\\\\n",
    "\n",
    "\\stackrel{\\text{TDSE}}{=} &- \\Psi^{\\ast}i\\left[-\\frac{\\hbar}{2}\\left(\\frac{1}{m_{1}+m_{2}}\\nabla_{\\text{CM}}^{2}+\\frac{m_{1}m_{2}}{m_{1}+m_{2}}\\nabla_{r}^{2}\\right)+V(r)\\right]\\Psi \\notag \\\\\n",
    "\n",
    "&+\\Psi i\\left[\\frac{\\hbar}{2}\\left(\\frac{1}{m_{1}+m_{2}}\\nabla_{\\text{CM}}^{2}+\\frac{m_{1}m_{2}}{m_{1}+m_{2}}\\nabla_{r}^{2}\\right)+V(r)\\right]\\Psi^{\\ast} \\notag \\\\\n",
    "\n",
    "= &- \\Psi^{\\ast}i\\left[-\\frac{\\hbar}{2}\\left(\\frac{1}{m_{1}+m_{2}}\\nabla_{\\text{CM}}^{2}+\\frac{m_{1}m_{2}}{m_{1}+m_{2}}\\nabla_{r}^{2}\\right)\\right]\\Psi \\notag \\\\\n",
    "\n",
    "&+\\Psi i\\left[\\frac{\\hbar}{2}\\left(\\frac{1}{m_{1}+m_{2}}\\nabla_{\\text{CM}}^{2}+\\frac{m_{1}m_{2}}{m_{1}+m_{2}}\\nabla_{r}^{2}\\right)\\right]\\Psi^{\\ast} \\notag \\\\\n",
    "\n",
    "\\end{align}$ \n",
    "\n",
    "End. \n"
   ]
  }
 ],
 "metadata": {},
 "nbformat": 4,
 "nbformat_minor": 1
}
