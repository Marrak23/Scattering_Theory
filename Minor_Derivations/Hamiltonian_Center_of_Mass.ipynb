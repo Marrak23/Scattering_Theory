{
 "cells": [
  {
   "cell_type": "markdown",
   "metadata": {
    "colab_type": "text",
    "id": "rMtCUtXxZ3ts"
   },
  "source": [
    "# Hamiltoninan - Center of Mass transformation\n",
    "\n",
    "In the following, the Hamiltonian in the Center of Mass formalism will be derived.\n ",
    "\n",
    "$\\begin{align}\n",
    "\\mathcal{H} = - \\frac{\\hbar^{2}}{2m_{1}}\\nabla_{1}^{2}- \\frac{\\hbar^{2}}{2m_{2}}\\nabla_{2}^{2} + V(r_{2}-r_{1})",
    "\\end{align}$\n",
    "\n",
    "The new coordinates, $r$ and $R_{\\text{CM}}$ are defined in the following way:\n",
    "\n",
    "$\\begin{align}\n",
    "r = r_{2} - r_{1}, \\quad R_{\\text{CM}} = 1",
    "\\end{align}$"
   ]
  }
 ],
 "metadata": {
  "anaconda-cloud": {},
  "colab": {
   "name": "a.ipynb",
   "provenance": [],
   "version": "0.3.2"
  },
  "kernelspec": {
   "display_name": "Python 3.10 (tensorflow)",
   "language": "python",
   "name": "tensorflow"
  },
  "language_info": {
   "codemirror_mode": {
    "name": "ipython",
    "version": 3
   },
   "file_extension": ".py",
   "mimetype": "text/x-python",
   "name": "python",
   "nbconvert_exporter": "python",
   "pygments_lexer": "ipython3",
   "version": "3.10.8"
  }
 },
 "nbformat": 4,
 "nbformat_minor": 1
}
