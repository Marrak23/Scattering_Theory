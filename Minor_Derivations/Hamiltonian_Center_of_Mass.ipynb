{
 "cells": [
  {
   "cell_type": "markdown",
   "metadata": {
    "colab_type": "text",
    "id": "rMtCUtXxZ3ts"
   },
  "source": [
    "# Hamiltoninan - Center of Mass transformation\n",
    "\n",
    "In the following, the Hamiltonian in the Center of Mass formalism will be derived.\n ",
    "\n",
    "$\\begin{align}\n",
    "\\mathcal{H}",
    "\\end{align}$"
   ]
  }
 ],
 "metadata": {
  "anaconda-cloud": {},
  "colab": {
   "name": "assignment_jheaton_class1.ipynb",
   "provenance": [],
   "version": "0.3.2"
  },
  "kernelspec": {
   "display_name": "Python 3.10 (tensorflow)",
   "language": "python",
   "name": "tensorflow"
  },
  "language_info": {
   "codemirror_mode": {
    "name": "ipython",
    "version": 3
   },
   "file_extension": ".py",
   "mimetype": "text/x-python",
   "name": "python",
   "nbconvert_exporter": "python",
   "pygments_lexer": "ipython3",
   "version": "3.10.8"
  }
 },
 "nbformat": 4,
 "nbformat_minor": 1
}
