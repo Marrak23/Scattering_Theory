{
 "cells": [
  {
   "cell_type": "markdown",
   "metadata": {
    "colab_type": "text",
    "id": "rMtCUtXxZ3ts"
   },
  {
   "cell_type": "code",
   "execution_count": null,
   "metadata": {
    "colab": {
     "base_uri": "https://localhost:8080/",
     "height": 87
    },
    "colab_type": "code",
    "id": "k7sKpvkYZ3tz",
    "outputId": "06cf2a6a-c42c-48d0-d662-2e0d443543a0"
   },
  "outputs": [],
   "source": [
    "# This is your student key that I emailed to you at the beginnning of the semester.\n",
    "key = \"Gx5en9cEVvaZnjhdaushddhuhhO4PsI32sgldAXj\"  # This is an example key and will not work.\n",
    "\n",
    "# You must also identify your source file.  (modify for your local setup)\n",
    "# file='/content/drive/My Drive/Colab Notebooks/assignment_yourname_class1.ipynb'  # Google CoLab\n",
    "# file='C:\\\\Users\\\\jeffh\\\\projects\\\\t81_558_deep_learning\\\\assignments\\\\assignment_yourname_class1.ipynb'  # Windows\n",
    "file='/Users/jheaton/projects/t81_558_deep_learning/assignments/assignment_yourname_class1.ipynb'  # Mac/Linux\n",
    "\n",
    "df = pd.DataFrame({'a' : [0, 0, 1, 1], 'b' : [0, 1, 0, 1], 'c' : [0, 1, 1, 0]})\n",
    "\n",
    "submit(source_file=file,data=[df],key=key,no=1)"
   ]
  },
  {
   "cell_type": "markdown",
   "metadata": {
    "colab_type": "text",
    "id": "-uIU8SxVZ3t2"
   },
   "source": [
    "# Checking Your Submission\n",
    "\n",
    "You can always double-check to make sure my program correctly received your submission.  The following utility code will help with that."
   ]
  },
  {
   "cell_type": "code",
   "execution_count": null,
   "metadata": {
    "colab": {},
    "colab_type": "code",
    "id": "YtQXDseiZ3t3"
   },
   "outputs": [],
   "source": [
    "import requests\n",
    "import pandas as pd\n",
    "import base64\n",
    "import os\n",
    "\n",
    "def list_submits(key):\n",
    "    r = requests.post(\"https://api.heatonresearch.com/assignment-submit\",\n",
    "                      headers={'x-api-key': key},\n",
    "                      json={})\n",
    "    if r.status_code == 200:\n",
    "        print(\"Success: \\n{}\".format(r.text))\n",
    "    else:\n",
    "        print(\"Failure: {}\".format(r.text))\n",
    "\n",
    "def display_submit(key,no):\n",
    "    r = requests.post(\"https://api.heatonresearch.com/assignment-submit\",\n",
    "                      headers={'x-api-key': key},\n",
    "                      json={'assignment':no})\n",
    "    if r.status_code == 200:\n",
    "        print(\"Success: \\n{}\".format(r.text))\n",
    "    else:\n",
    "        print(\"Failure: {}\".format(r.text))\n"
   ]
  },
  {
   "cell_type": "code",
   "execution_count": null,
   "metadata": {
    "colab": {},
    "colab_type": "code",
    "id": "YrtN_yZnZ3t5",
    "outputId": "f11b2136-6d4b-47d2-faab-7f7bb04c9f4c"
   },
   "outputs": [],
   "source": [
    "# Show a listing of all submitted assignments.\n",
    "\n",
    "key = \"Gx5en9cEVvaZnjhdaushddhuhhO4PsI32sgldAXj\"\n",
    "\n",
    "list_submits(key)"
   ]
  },
  {
   "cell_type": "code",
   "execution_count": null,
   "metadata": {
    "colab": {},
    "colab_type": "code",
    "id": "CPjhGyemZ3t7",
    "outputId": "86e05f16-1212-4dfc-8daf-5ae96bb13bf8"
   },
   "outputs": [],
   "source": [
    "# Show one assignment, by number.\n",
    "\n",
    "display_submit(key,1)"
   ]
  },
  {
   "cell_type": "code",
   "execution_count": null,
   "metadata": {
    "colab": {},
    "colab_type": "code",
    "id": "-OvkF33bZ3t9"
   },
   "outputs": [],
   "source": []
  }
 ],
 "metadata": {
  "anaconda-cloud": {},
  "colab": {
   "name": "assignment_jheaton_class1.ipynb",
   "provenance": [],
   "version": "0.3.2"
  },
  "kernelspec": {
   "display_name": "Python 3.10 (tensorflow)",
   "language": "python",
   "name": "tensorflow"
  },
  "language_info": {
   "codemirror_mode": {
    "name": "ipython",
    "version": 3
   },
   "file_extension": ".py",
   "mimetype": "text/x-python",
   "name": "python",
   "nbconvert_exporter": "python",
   "pygments_lexer": "ipython3",
   "version": "3.10.8"
  }
 },
 "nbformat": 4,
 "nbformat_minor": 1
}
