{
 "cells": [
  {
   "cell_type": "markdown",
   "metadata": {
    "colab_type": "text",
    "id": "rMtCUtXxZ3ts"
   },
  "source": [
    "# Hamiltoninan - Center of Mass transformation\n",
    "\n",
    "In the following, the Hamiltonian in the Center of Mass formalism will be derived.\n ",
    "\n",
    "$\\begin{align}\n",
    "\\mathcal{H} = - \\frac{\\hbar^{2}}{2m_{1}}\\nabla_{1}^{2}- \\frac{\\hbar^{2}}{2m_{2}}\\nabla_{2}^{2} + V(r_{2}-r_{1})",
    "\\end{align}$\n",
    "\n",
    "The new coordinates, $r$ and $R_{\\text{CM}}$ are defined in the following way:\n",
    "\n",
    "$\\begin{align}\n",
    "r = r_{2} - r_{1}, \\quad R_{\\text{CM}} = 1",
    "\\end{align}$"
   ]
  }
 ],
 "metadata": {
 "language_info": {
   "name": "python"
  }
 },
 "nbformat": 4,
 "nbformat_minor": 1
}
