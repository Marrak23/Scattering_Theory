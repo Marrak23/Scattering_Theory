\documentclass[12pt, twoside, a4paper]{report}


%-----Document start---%
\begin{document}
Hello
\end{document}
%-----Document end--%
