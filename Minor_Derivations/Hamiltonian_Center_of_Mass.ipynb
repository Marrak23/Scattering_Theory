{
 "cells": [
  {
   "cell_type": "markdown",
   "metadata": {
    "colab_type": "text"
   },
  "source": [
    "# Hamiltonian - Center of Mass transformation\n",
    "\n",
    "In the following, the Hamiltonian in the Center of Mass formalism will be derived.\n",
    ”\n",
    "The cartesian representation of the Hamiltonian for a two-particle system is provided by the following:",
    "\n",
    "$\\begin{align}\n",
    "\\mathcal{H} = - \\frac{\\hbar^{2}}{2m_{1}}\\nabla_{1}^{2}- \\frac{\\hbar^{2}}{2m_{2}}\\nabla_{2}^{2} + V(r_{2}-r_{1})",
    "\\end{align}$\n",
    "\n",
    "The new coordinates, $r$ and $R_{\\text{CM}}$ are defined in the following way:\n",
    "\n",
    "$\\begin{align}\n",
    "r = r_{2} - r_{1}, \\quad R_{\\text{CM}} = 1",
    "\\end{align}$ \n",
    "\n",
    "The nabla operators corresponding to the center of coordinates are introduced by applying the chain rule to $r_{1}$ and $r_{2}$ and substituting using eqs. (2), respectively:",
    "\n",
    "$\\begin{align}\n",
    "\\nabla_{1} = \\frac{\\partial}{\\partial r_{1}} &= \\frac{\\partial R_{\\text{CM}}}{\\partial r_{1}}\\frac{\\partial}{\\partial R_{\\text{CM}}} + \\frac{\\partial r}{\\partial r_{1}}\\frac{\\partial}{\\partial r}\\notag \\\\\n",
    "\n",
    "&= \\frac{m_{1}}{m_{1}+m_{2}}\\frac{\\partial}{\\partial R_{\\text{CM}}}+\\frac{\\partial}{\\partial r} \\\\\n",
    "\n",
    "\\nabla_{2} = \\frac{\\partial}{\\partial r_{2}} &= \\frac{\\partial R_{\\text{CM}}}{\\partial r_{2}}\\frac{\\partial}{\\partial R_{\\text{CM}}} + \\frac{\\partial r}{\\partial r_{2}}\\frac{\\partial}{\\partial r}\\notag \\\\\n",
    "\n",
    "&= \\frac{m_{1}}{m_{1}+m_{2}}\\frac{\\partial}{\\partial R_{\\text{CM}}}-\\frac{\\partial}{\\partial r}",
    "\\end{align}$"
   ]
  }
 ],
 "metadata": {},
 "nbformat": 4,
 "nbformat_minor": 1
}
